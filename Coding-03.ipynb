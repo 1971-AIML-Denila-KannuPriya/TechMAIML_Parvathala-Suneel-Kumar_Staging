{
 "cells": [
  {
   "cell_type": "code",
   "execution_count": null,
   "id": "d4b22fe0-d109-46bd-a402-c83ff2f0d28c",
   "metadata": {},
   "outputs": [],
   "source": [
    "1.Problem: Implement a Python function to calculate the mean squared error (MSE) between two lists of predicted and actual values."
   ]
  },
  {
   "cell_type": "code",
   "execution_count": 3,
   "id": "973da384-bcdc-4b45-a865-64d018385a33",
   "metadata": {},
   "outputs": [
    {
     "name": "stdout",
     "output_type": "stream",
     "text": [
      "0.16666666666666666\n"
     ]
    }
   ],
   "source": [
    "def mean_squared_error(actual, predicted):\n",
    "    return sum((a - p) ** 2 for a, p in zip(actual, predicted)) / len(actual)\n",
    "\n",
    "# Example usage:\n",
    "actual = [1, 2, 3]\n",
    "predicted = [1.5, 2.5, 3.0]\n",
    "print(mean_squared_error(actual, predicted))  # Output: 0.0833\n"
   ]
  },
  {
   "cell_type": "code",
   "execution_count": null,
   "id": "79fe63e7-b829-4e0a-a459-f621355f48e8",
   "metadata": {},
   "outputs": [],
   "source": [
    "2.Problem: Write a function to generate synthetic data using the Gaussian mixture model (GMM) algorithm from scratch. The function should return\n",
    "clusters of data points."
   ]
  },
  {
   "cell_type": "code",
   "execution_count": 2,
   "id": "2a5fab2e-6ace-401b-9254-32e999ee2e95",
   "metadata": {},
   "outputs": [
    {
     "name": "stdout",
     "output_type": "stream",
     "text": [
      "[[-7.52735219e-01 -2.06882022e+00]\n",
      " [ 1.69123120e+00 -9.03675597e-01]\n",
      " [ 5.01283769e-01  6.96513423e-01]\n",
      " [ 7.25934401e-01 -1.47867556e+00]\n",
      " [ 2.36413609e+00  5.86347845e-01]\n",
      " [-9.33261263e-02  3.80484320e-01]\n",
      " [-5.60107367e-02 -2.17049802e+00]\n",
      " [ 2.42023648e-01  4.48082022e-01]\n",
      " [ 1.25209027e-01  1.32038004e+00]\n",
      " [-2.18429434e+00  5.94105973e-01]\n",
      " [-2.19630348e-01  8.92387414e-01]\n",
      " [ 3.22463327e-02 -9.11934147e-01]\n",
      " [ 1.88230370e+00  1.89776694e+00]\n",
      " [ 1.48997885e+00 -1.12939987e+00]\n",
      " [ 7.45670155e-01  6.11485323e-01]\n",
      " [ 2.42434972e-01 -2.08598663e-01]\n",
      " [ 7.77776979e-01  6.91817731e-01]\n",
      " [ 4.62631315e-01  2.69903066e-01]\n",
      " [-2.75193531e-01 -9.92209582e-01]\n",
      " [-8.92071095e-01  2.10768067e-01]\n",
      " [-7.10829525e-01 -1.04466532e+00]\n",
      " [-1.60310999e+00 -2.06449481e-02]\n",
      " [-1.73253841e-01  4.41850959e-01]\n",
      " [-2.13860485e-01  7.69641144e-03]\n",
      " [-6.48343628e-01 -3.23669492e-01]\n",
      " [-1.15794824e+00 -1.38001398e+00]\n",
      " [-1.82812761e-01  1.64447897e+00]\n",
      " [ 1.01933493e+00 -2.23035208e+00]\n",
      " [ 1.24159682e-01 -6.97304835e-02]\n",
      " [ 2.08856118e+00  7.91762772e-01]\n",
      " [-7.29613930e-01 -1.53875181e-01]\n",
      " [-1.89742912e-01  2.24992593e+00]\n",
      " [ 7.66865943e-01  8.18048221e-01]\n",
      " [ 1.25204974e+00  8.40981224e-02]\n",
      " [-8.04858978e-02 -5.54571097e-01]\n",
      " [ 4.31289296e-01  9.05160573e-01]\n",
      " [-2.46098029e-01  1.10855408e+00]\n",
      " [ 2.56513286e-01 -6.69940937e-01]\n",
      " [-1.03061826e+00 -8.62704139e-01]\n",
      " [ 3.51671234e-01 -2.30089408e+00]\n",
      " [ 6.21244303e-01  8.26478029e-01]\n",
      " [ 1.09309948e+00  4.64055303e-02]\n",
      " [ 1.08004855e+00  1.18063468e+00]\n",
      " [-1.46995277e+00  8.70611994e-01]\n",
      " [-7.95719941e-01  3.34488619e-01]\n",
      " [ 2.42453030e-01  1.17875573e-01]\n",
      " [-1.30974017e+00 -2.51563510e-01]\n",
      " [ 1.45226148e+00  1.25005124e+00]\n",
      " [-2.23387437e-01  1.20805536e+00]\n",
      " [ 8.24049343e-01  1.92982695e-01]\n",
      " [ 2.49529779e+00 -5.41613367e-01]\n",
      " [ 1.37181751e+00 -4.45039168e-01]\n",
      " [-1.25522780e+00  1.24753120e-01]\n",
      " [-6.22720005e-02 -1.93084351e-03]\n",
      " [ 5.64507066e-01 -8.72116258e-01]\n",
      " [-1.75381610e-01 -1.05760256e-01]\n",
      " [ 9.77874805e-01  4.65777548e-01]\n",
      " [-1.45193865e+00  4.01627914e-01]\n",
      " [-6.45619974e-01 -8.53266275e-01]\n",
      " [ 2.11801752e-01 -4.41054206e-01]\n",
      " [-2.80060572e-01 -4.93134603e-01]\n",
      " [-8.50833163e-01 -1.43106278e-01]\n",
      " [ 4.85784871e-01  6.94807781e-01]\n",
      " [ 1.00365320e+00  9.31299911e-01]\n",
      " [-5.79473644e-01 -1.53710639e+00]\n",
      " [ 1.58752245e+00 -2.18054039e+00]\n",
      " [-4.33573342e-01  1.25596806e+00]\n",
      " [-2.24444638e+00 -1.44390127e+00]\n",
      " [ 4.35127235e-02  2.32890631e-01]\n",
      " [-5.65326959e-01  7.06326976e-01]\n",
      " [-6.80110037e-01  1.04422598e+00]\n",
      " [-5.35613319e-01 -1.95851393e-01]\n",
      " [-5.71923334e-01 -2.33071759e-01]\n",
      " [ 1.02326225e-01  1.88791752e+00]\n",
      " [-1.39215986e+00 -8.06968923e-01]\n",
      " [-7.66872206e-01 -1.79972402e-01]\n",
      " [ 9.78895242e-01 -1.73267597e-01]\n",
      " [-2.33987654e-01  8.53578027e-01]\n",
      " [ 8.79940519e-01  5.63558578e-01]\n",
      " [ 1.12112240e+00  1.07918720e+00]\n",
      " [ 1.03129259e+00  6.87477012e-01]\n",
      " [-3.80514905e-01  4.97817157e-01]\n",
      " [-1.14871284e+00  7.54059119e-01]\n",
      " [-2.48573756e-01  1.33911077e+00]\n",
      " [-1.27542768e-02 -1.21419181e+00]\n",
      " [ 1.35861591e+00 -9.48853380e-01]\n",
      " [ 6.29052655e-01  1.20642519e+00]\n",
      " [ 7.39652442e-01  1.78296807e+00]\n",
      " [ 8.96511918e-01 -1.71960128e+00]\n",
      " [ 1.26744774e+00 -4.78398327e-01]\n",
      " [ 2.72030189e-01 -1.72819175e+00]\n",
      " [ 6.76044450e-01  3.13401990e-01]\n",
      " [-1.15595965e+00  7.19233981e-01]\n",
      " [-5.94668616e-01 -3.11843694e-02]\n",
      " [ 1.25838966e+00  1.47855697e+00]\n",
      " [ 5.70926563e-02  1.28320330e+00]\n",
      " [-2.35287448e+00 -7.84167183e-01]\n",
      " [ 1.58981150e+00  8.56371915e-02]\n",
      " [ 1.46956677e+00 -5.43828344e-01]\n",
      " [ 7.51854789e-01 -8.01638665e-01]\n",
      " [ 2.80756893e+00  6.02463331e+00]\n",
      " [ 5.63786263e+00  5.11769659e+00]\n",
      " [ 3.42728073e+00  4.84855059e+00]\n",
      " [ 6.26000763e+00  5.02719068e+00]\n",
      " [ 4.77271560e+00  5.55071246e+00]\n",
      " [ 2.97322866e+00  4.66438531e+00]\n",
      " [ 4.98899762e+00  5.19496944e+00]\n",
      " [ 6.61853120e+00  4.60983092e+00]\n",
      " [ 4.99042095e+00  4.69961280e+00]\n",
      " [ 6.36532913e+00  4.78073920e+00]\n",
      " [ 4.44451100e+00  5.06705676e+00]\n",
      " [ 4.37851344e+00  5.29014360e+00]\n",
      " [ 4.09957307e+00  4.09695996e+00]\n",
      " [ 5.04715116e+00  4.36322730e+00]\n",
      " [ 5.74195351e+00  4.19754156e+00]\n",
      " [ 4.95374303e+00  3.75809799e+00]\n",
      " [ 5.17256768e+00  5.44386739e+00]\n",
      " [ 4.25900734e+00  3.46425940e+00]\n",
      " [ 5.10507475e+00  6.73265350e+00]\n",
      " [ 5.32111061e+00  5.25444878e+00]\n",
      " [ 4.33828979e+00  4.14778744e+00]\n",
      " [ 4.46320025e+00  5.03237608e+00]\n",
      " [ 6.49840022e+00  5.37552494e+00]\n",
      " [ 5.06267813e+00  5.42560961e+00]\n",
      " [ 6.16357110e+00  3.75429421e+00]\n",
      " [ 4.26460380e+00  3.94347991e+00]\n",
      " [ 4.25401935e+00  3.29597330e+00]\n",
      " [ 5.61087513e+00  5.18622269e+00]\n",
      " [ 4.91550090e+00  4.80111956e+00]\n",
      " [ 4.52695303e+00  5.75767559e+00]\n",
      " [ 5.48345013e+00  4.78921720e+00]\n",
      " [ 6.06110280e+00  5.63519396e+00]\n",
      " [ 5.84934436e+00  5.85700624e+00]\n",
      " [ 5.75543322e+00  5.47405335e+00]\n",
      " [ 5.18273558e+00  5.88506128e+00]\n",
      " [ 2.96149767e+00  6.65613406e+00]\n",
      " [ 6.04873215e+00  6.36518388e+00]\n",
      " [ 5.45206052e+00  6.64133225e+00]\n",
      " [ 4.83224790e+00  3.83594011e+00]\n",
      " [ 4.57818585e+00  4.52483525e+00]\n",
      " [ 4.82097487e+00  4.48031923e+00]\n",
      " [ 4.96180866e+00  6.95113568e+00]\n",
      " [ 5.92544594e+00  6.89811563e+00]\n",
      " [ 7.09732536e+00  5.44853655e+00]\n",
      " [ 3.39883426e+00  5.44663894e+00]\n",
      " [ 3.88020202e+00  7.77665419e+00]\n",
      " [ 4.46276290e+00  7.37863726e+00]\n",
      " [ 4.58311702e+00  5.95380515e+00]\n",
      " [ 3.90221750e+00  4.79499364e+00]\n",
      " [ 4.78585866e+00  4.85021017e+00]\n",
      " [ 4.81868372e+00  6.12960423e+00]\n",
      " [ 3.39764057e+00  3.42979177e+00]\n",
      " [ 5.71799737e+00  4.66130652e+00]\n",
      " [ 3.10592347e+00  4.50632375e+00]\n",
      " [ 5.17872808e+00  3.13099556e+00]\n",
      " [ 3.27936536e+00  4.77688592e+00]\n",
      " [ 4.70001112e+00  5.71938913e+00]\n",
      " [ 6.12982933e+00  4.79111228e+00]\n",
      " [ 7.29717602e+00  4.93274220e+00]\n",
      " [ 6.27288612e+00  6.53069278e+00]\n",
      " [ 6.18701168e+00  5.38727403e+00]\n",
      " [ 3.95164356e+00  5.75611217e+00]\n",
      " [ 4.49751903e+00  2.70528161e+00]\n",
      " [ 5.98433889e+00  4.32855820e+00]\n",
      " [ 7.17784056e+00  6.69262514e+00]\n",
      " [ 4.05874875e+00  4.94662744e+00]\n",
      " [ 5.60944941e+00  3.67181157e+00]\n",
      " [ 3.59743835e+00  3.48142452e+00]\n",
      " [ 6.84181211e+00  2.78258533e+00]\n",
      " [ 3.94003494e+00  5.57930457e+00]\n",
      " [ 4.85647845e+00  5.39496103e+00]\n",
      " [ 6.23575169e+00  5.04095854e+00]\n",
      " [ 4.89733064e+00  6.09845337e+00]\n",
      " [ 4.62908459e+00  3.32143279e+00]\n",
      " [ 5.35866074e+00  5.51758011e+00]\n",
      " [ 5.40402691e+00  4.75861141e+00]\n",
      " [ 3.58669841e+00  3.87126245e+00]\n",
      " [ 6.08754331e+00  3.65606920e+00]\n",
      " [ 5.66479703e+00  5.01650000e+00]\n",
      " [ 5.27344181e+00  5.04145551e+00]\n",
      " [ 4.45255385e+00  6.88680562e+00]\n",
      " [ 6.21781878e+00  5.05484685e+00]\n",
      " [ 6.27050302e+00  2.93015269e+00]\n",
      " [ 6.52800624e+00  6.04980635e+00]\n",
      " [ 3.06749089e+00  4.23978015e+00]\n",
      " [ 4.34139690e+00  5.36412846e+00]\n",
      " [ 4.28976088e+00  5.37765681e+00]\n",
      " [ 3.17052437e+00  3.79238567e+00]\n",
      " [ 4.44091275e+00  4.85481629e+00]\n",
      " [ 6.84468487e+00  5.53381738e+00]\n",
      " [ 4.36498874e+00  4.26962777e+00]\n",
      " [ 5.48849352e+00  3.86759575e+00]\n",
      " [ 3.78345872e+00  3.01392969e+00]\n",
      " [ 6.60154342e+00  6.74334637e+00]\n",
      " [ 6.19964056e+00  4.34262803e+00]\n",
      " [ 6.00200477e+00  5.69826645e+00]\n",
      " [ 4.18544508e+00  4.64857650e+00]\n",
      " [ 4.83827958e+00  4.34937106e+00]\n",
      " [ 4.68683796e+00  6.21897411e+00]\n",
      " [ 4.68280317e+00  5.74274195e+00]]\n"
     ]
    }
   ],
   "source": [
    "import numpy as np\n",
    "\n",
    "def generate_gmm_data(n_clusters, n_points, means, covariances):\n",
    "    clusters = []\n",
    "    for i in range(n_clusters):\n",
    "        cluster_points = np.random.multivariate_normal(means[i], covariances[i], n_points)\n",
    "        clusters.append(cluster_points)\n",
    "    return np.vstack(clusters)\n",
    "\n",
    "# Example usage:\n",
    "means = [[0, 0], [5, 5]]\n",
    "covariances = [np.eye(2), np.eye(2)]\n",
    "print(generate_gmm_data(2, 100, means, covariances))\n"
   ]
  },
  {
   "cell_type": "code",
   "execution_count": null,
   "id": "bae8e4c9-2c02-4a9f-87bc-897aa036483f",
   "metadata": {},
   "outputs": [],
   "source": [
    "3. Problem: Implement a Python function to apply batch normalization to a layer's activations in a neural network."
   ]
  },
  {
   "cell_type": "code",
   "execution_count": 3,
   "id": "56da2e9c-03cc-4f8c-9274-411c388afa88",
   "metadata": {},
   "outputs": [
    {
     "name": "stdout",
     "output_type": "stream",
     "text": [
      "[[-0.999995 -0.999995]\n",
      " [ 0.999995  0.999995]]\n"
     ]
    }
   ],
   "source": [
    "def batch_normalization(x, gamma, beta, epsilon=1e-5):\n",
    "    mean = np.mean(x, axis=0)\n",
    "    variance = np.var(x, axis=0)\n",
    "    x_normalized = (x - mean) / np.sqrt(variance + epsilon)\n",
    "    return gamma * x_normalized + beta\n",
    "\n",
    "# Example usage:\n",
    "x = np.array([[1, 2], [3, 4]])\n",
    "gamma = np.array([1, 1])\n",
    "beta = np.array([0, 0])\n",
    "print(batch_normalization(x, gamma, beta))\n"
   ]
  },
  {
   "cell_type": "code",
   "execution_count": null,
   "id": "9a90ea0f-bdda-4606-a002-7619b488ef80",
   "metadata": {},
   "outputs": [],
   "source": [
    "4.Problem: Write a function to calculate the Jaccard similarity between two sets, often used in text mining and natural language processing tasks."
   ]
  },
  {
   "cell_type": "code",
   "execution_count": 4,
   "id": "8c1762d3-d352-4ba2-8b06-23f7fe19594f",
   "metadata": {},
   "outputs": [
    {
     "name": "stdout",
     "output_type": "stream",
     "text": [
      "0.5\n"
     ]
    }
   ],
   "source": [
    "def jaccard_similarity(set1, set2):\n",
    "    intersection = len(set1.intersection(set2))\n",
    "    union = len(set1.union(set2))\n",
    "    return intersection / union\n",
    "\n",
    "# Example usage:\n",
    "set1 = {\"a\", \"b\", \"c\"}\n",
    "set2 = {\"b\", \"c\", \"d\"}\n",
    "print(jaccard_similarity(set1, set2))  # Output: 0.5\n"
   ]
  },
  {
   "cell_type": "code",
   "execution_count": null,
   "id": "629c6729-634b-4231-b510-f76415906fd4",
   "metadata": {},
   "outputs": [],
   "source": [
    "5.Problem: Implement the stochastic gradient descent (SGD) algorithm for training a logistic regression model."
   ]
  },
  {
   "cell_type": "code",
   "execution_count": 5,
   "id": "1ad2e4d7-0a58-43df-a248-9d5ce85e682c",
   "metadata": {},
   "outputs": [
    {
     "name": "stdout",
     "output_type": "stream",
     "text": [
      "[ 1.9009121  -0.83464439]\n"
     ]
    }
   ],
   "source": [
    "import numpy as np\n",
    "\n",
    "def sigmoid(x):\n",
    "    return 1 / (1 + np.exp(-x))\n",
    "\n",
    "def sgd_logistic_regression(X, y, lr=0.01, n_iters=1000):\n",
    "    weights = np.zeros(X.shape[1])\n",
    "    for _ in range(n_iters):\n",
    "        for i in range(len(y)):\n",
    "            xi = X[i]\n",
    "            yi = y[i]\n",
    "            prediction = sigmoid(np.dot(xi, weights))\n",
    "            weights -= lr * (prediction - yi) * xi\n",
    "    return weights\n",
    "\n",
    "# Example usage:\n",
    "X = np.array([[1, 2], [2, 3], [3, 4]])\n",
    "y = np.array([0, 1, 1])\n",
    "print(sgd_logistic_regression(X, y))\n"
   ]
  },
  {
   "cell_type": "code",
   "execution_count": null,
   "id": "a49cd56f-55c5-4e3f-bbd2-7bd05e1bf85d",
   "metadata": {},
   "outputs": [],
   "source": [
    "6.Problem: Write a Python function to perform the backpropagation step for a simple feedforward neural network with one hidden layer."
   ]
  },
  {
   "cell_type": "code",
   "execution_count": 6,
   "id": "5c6f2085-96b5-48a3-9032-f201fe6a5c73",
   "metadata": {},
   "outputs": [
    {
     "data": {
      "text/plain": [
       "(array([[0.95406234, 0.36274665, 0.06922996],\n",
       "        [0.24050771, 0.35961982, 0.79641007]]),\n",
       " array([[0.52656032],\n",
       "        [0.27456394],\n",
       "        [0.58933263]]))"
      ]
     },
     "execution_count": 6,
     "metadata": {},
     "output_type": "execute_result"
    }
   ],
   "source": [
    "def sigmoid(x):\n",
    "    return 1 / (1 + np.exp(-x))\n",
    "\n",
    "def sigmoid_derivative(x):\n",
    "    return sigmoid(x) * (1 - sigmoid(x))\n",
    "\n",
    "def backpropagation(X, y, weights1, weights2, learning_rate=0.01):\n",
    "    # Forward pass\n",
    "    hidden = sigmoid(np.dot(X, weights1))\n",
    "    output = sigmoid(np.dot(hidden, weights2))\n",
    "\n",
    "    # Error at the output\n",
    "    output_error = y - output\n",
    "    output_delta = output_error * sigmoid_derivative(output)\n",
    "\n",
    "    # Backpropagating the error to hidden layer\n",
    "    hidden_error = output_delta.dot(weights2.T)\n",
    "    hidden_delta = hidden_error * sigmoid_derivative(hidden)\n",
    "\n",
    "    # Update weights\n",
    "    weights2 += hidden.T.dot(output_delta) * learning_rate\n",
    "    weights1 += X.T.dot(hidden_delta) * learning_rate\n",
    "\n",
    "    return weights1, weights2\n",
    "\n",
    "# Example usage:\n",
    "X = np.array([[0, 0], [0, 1], [1, 0], [1, 1]])\n",
    "y = np.array([[0], [1], [1], [0]])\n",
    "weights1 = np.random.rand(2, 3)\n",
    "weights2 = np.random.rand(3, 1)\n",
    "backpropagation(X, y, weights1, weights2)\n"
   ]
  },
  {
   "cell_type": "code",
   "execution_count": null,
   "id": "3c53bd33-bec1-4ccf-84e4-5658e3a26d47",
   "metadata": {},
   "outputs": [],
   "source": [
    "7.Problem: Implement the decision tree algorithm from scratch in Python. Given a dataset, build a decision tree based on Gini impurity or entropy."
   ]
  },
  {
   "cell_type": "code",
   "execution_count": 11,
   "id": "9ff08c7d-13e2-4fb9-a4fb-cdc24f976d5b",
   "metadata": {},
   "outputs": [
    {
     "name": "stdout",
     "output_type": "stream",
     "text": [
      "[0 0 1 1 1]\n"
     ]
    }
   ],
   "source": [
    "import numpy as np\n",
    "\n",
    "class DecisionTree:\n",
    "    def __init__(self, criterion='gini', max_depth=None):\n",
    "        self.criterion = criterion\n",
    "        self.max_depth = max_depth\n",
    "        self.tree = None\n",
    "\n",
    "    def gini(self, y):\n",
    "        m = len(y)\n",
    "        return 1.0 - sum((np.sum(y == c) / m) ** 2 for c in np.unique(y))\n",
    "\n",
    "    def entropy(self, y):\n",
    "        m = len(y)\n",
    "        return -sum((np.sum(y == c) / m) * np.log2(np.sum(y == c) / m) for c in np.unique(y))\n",
    "\n",
    "    def criterion_function(self, y):\n",
    "        if self.criterion == 'gini':\n",
    "            return self.gini(y)\n",
    "        elif self.criterion == 'entropy':\n",
    "            return self.entropy(y)\n",
    "\n",
    "    def best_split(self, X, y):\n",
    "        m, n = X.shape\n",
    "        best_gini = float('inf')\n",
    "        best_idx, best_thresh = None, None\n",
    "        \n",
    "        for idx in range(n):\n",
    "            thresholds, classes = zip(*sorted(zip(X[:, idx], y)))\n",
    "            for i in range(1, m):\n",
    "                if thresholds[i] == thresholds[i - 1]:\n",
    "                    continue\n",
    "                left_y, right_y = classes[:i], classes[i:]\n",
    "                gini_left = self.criterion_function(np.array(left_y))\n",
    "                gini_right = self.criterion_function(np.array(right_y))\n",
    "                weighted_gini = (i / m) * gini_left + (1 - i / m) * gini_right\n",
    "\n",
    "                if weighted_gini < best_gini:\n",
    "                    best_gini = weighted_gini\n",
    "                    best_idx = idx\n",
    "                    best_thresh = (thresholds[i] + thresholds[i - 1]) / 2\n",
    "        \n",
    "        return best_idx, best_thresh\n",
    "\n",
    "    def grow_tree(self, X, y, depth=0):\n",
    "        n_labels = len(np.unique(y))\n",
    "        if depth == self.max_depth or n_labels == 1:\n",
    "            leaf_value = self.most_common_label(y)\n",
    "            return leaf_value\n",
    "\n",
    "        best_idx, best_thresh = self.best_split(X, y)\n",
    "        if best_idx is None:\n",
    "            return self.most_common_label(y)\n",
    "\n",
    "        left_idxs = X[:, best_idx] <= best_thresh\n",
    "        right_idxs = X[:, best_idx] > best_thresh\n",
    "\n",
    "        left = self.grow_tree(X[left_idxs], y[left_idxs], depth + 1)\n",
    "        right = self.grow_tree(X[right_idxs], y[right_idxs], depth + 1)\n",
    "        return {'feature_idx': best_idx, 'threshold': best_thresh, 'left': left, 'right': right}\n",
    "\n",
    "    def fit(self, X, y):\n",
    "        self.tree = self.grow_tree(X, y)\n",
    "\n",
    "    def predict(self, X):\n",
    "        return np.array([self._predict(inputs, self.tree) for inputs in X])\n",
    "\n",
    "    def _predict(self, inputs, tree):\n",
    "        if not isinstance(tree, dict):\n",
    "            return tree\n",
    "        feature_idx = tree['feature_idx']\n",
    "        threshold = tree['threshold']\n",
    "        if inputs[feature_idx] <= threshold:\n",
    "            return self._predict(inputs, tree['left'])\n",
    "        else:\n",
    "            return self._predict(inputs, tree['right'])\n",
    "\n",
    "    def most_common_label(self, y):\n",
    "        return np.bincount(y).argmax()\n",
    "\n",
    "# Example usage:\n",
    "X = np.array([[2, 3], [1, 5], [4, 2], [6, 4], [5, 7]])\n",
    "y = np.array([0, 0, 1, 1, 1])\n",
    "\n",
    "tree = DecisionTree(criterion='gini', max_depth=2)\n",
    "tree.fit(X, y)\n",
    "predictions = tree.predict(X)\n",
    "print(predictions)  # Outputs the predicted labels for the input data\n"
   ]
  },
  {
   "cell_type": "code",
   "execution_count": null,
   "id": "d21c8505-4cf5-4596-9857-63e169621108",
   "metadata": {},
   "outputs": [],
   "source": [
    "8.Problem: Write a Python function to compute the F1-score given the true labels and predicted labels for a binary classification problem."
   ]
  },
  {
   "cell_type": "code",
   "execution_count": 12,
   "id": "7bbeafe6-a0b1-4667-8dfd-0ac4b41c829a",
   "metadata": {},
   "outputs": [
    {
     "name": "stdout",
     "output_type": "stream",
     "text": [
      "0.6666666666666666\n"
     ]
    }
   ],
   "source": [
    "def f1_score(true_labels, predicted_labels):\n",
    "    tp = sum((true_labels == 1) & (predicted_labels == 1))\n",
    "    fp = sum((true_labels == 0) & (predicted_labels == 1))\n",
    "    fn = sum((true_labels == 1) & (predicted_labels == 0))\n",
    "    \n",
    "    precision = tp / (tp + fp)\n",
    "    recall = tp / (tp + fn)\n",
    "    \n",
    "    return 2 * (precision * recall) / (precision + recall)\n",
    "\n",
    "# Example usage:\n",
    "true_labels = np.array([1, 0, 1, 1, 0])\n",
    "predicted_labels = np.array([1, 0, 1, 0, 1])\n",
    "print(f1_score(true_labels, predicted_labels))\n"
   ]
  },
  {
   "cell_type": "code",
   "execution_count": null,
   "id": "30bb9c4f-9dff-429c-9a6e-48888a26176b",
   "metadata": {},
   "outputs": [],
   "source": [
    "9.Problem: Implement support vector machine (SVM) classification from scratch, including the hinge loss function and gradient-based optimization."
   ]
  },
  {
   "cell_type": "code",
   "execution_count": 13,
   "id": "0bde16f0-db9e-49f6-b1bb-68a3ea5686d5",
   "metadata": {},
   "outputs": [
    {
     "name": "stdout",
     "output_type": "stream",
     "text": [
      "[ 1. -1. -1. -1.]\n"
     ]
    }
   ],
   "source": [
    "import numpy as np\n",
    "\n",
    "class SVM:\n",
    "    def __init__(self, learning_rate=0.001, lambda_param=0.01, n_iters=1000):\n",
    "        self.lr = learning_rate\n",
    "        self.lambda_param = lambda_param\n",
    "        self.n_iters = n_iters\n",
    "        self.w = None\n",
    "        self.b = None\n",
    "\n",
    "    def fit(self, X, y):\n",
    "        n_samples, n_features = X.shape\n",
    "        y_ = np.where(y <= 0, -1, 1)  # Convert labels to -1, 1\n",
    "\n",
    "        self.w = np.zeros(n_features)\n",
    "        self.b = 0\n",
    "\n",
    "        for _ in range(self.n_iters):\n",
    "            for idx, x_i in enumerate(X):\n",
    "                condition = y_[idx] * (np.dot(x_i, self.w) - self.b) >= 1\n",
    "                if condition:\n",
    "                    self.w -= self.lr * (2 * self.lambda_param * self.w)\n",
    "                else:\n",
    "                    self.w -= self.lr * (2 * self.lambda_param * self.w - np.dot(x_i, y_[idx]))\n",
    "                    self.b -= self.lr * y_[idx]\n",
    "\n",
    "    def predict(self, X):\n",
    "        approx = np.dot(X, self.w) - self.b\n",
    "        return np.sign(approx)\n",
    "\n",
    "# Example usage:\n",
    "X = np.array([[1, 2], [2, 3], [3, 4], [5, 6]])\n",
    "y = np.array([1, -1, 1, -1])\n",
    "\n",
    "svm = SVM()\n",
    "svm.fit(X, y)\n",
    "predictions = svm.predict(X)\n",
    "print(predictions)\n"
   ]
  },
  {
   "cell_type": "code",
   "execution_count": null,
   "id": "ab356943-8cd9-4a20-b255-bfdb505805fc",
   "metadata": {},
   "outputs": [],
   "source": [
    "10.Problem: Write a Python function to compute the Pearson correlation coefficient between two sets of data."
   ]
  },
  {
   "cell_type": "code",
   "execution_count": 14,
   "id": "7da07047-e77f-4e77-8cd2-8bfe522208f4",
   "metadata": {},
   "outputs": [
    {
     "name": "stdout",
     "output_type": "stream",
     "text": [
      "1.0\n"
     ]
    }
   ],
   "source": [
    "def pearson_correlation(x, y):\n",
    "    n = len(x)\n",
    "    sum_x = sum(x)\n",
    "    sum_y = sum(y)\n",
    "    sum_x_sq = sum(x_i**2 for x_i in x)\n",
    "    sum_y_sq = sum(y_i**2 for y_i in y)\n",
    "    psum = sum(x_i * y_i for x_i, y_i in zip(x, y))\n",
    "    num = psum - (sum_x * sum_y / n)\n",
    "    den = ((sum_x_sq - sum_x**2 / n) * (sum_y_sq - sum_y**2 / n))**0.5\n",
    "    return num / den\n",
    "\n",
    "# Example usage:\n",
    "x = [1, 2, 3, 4]\n",
    "y = [5, 6, 7, 8]\n",
    "print(pearson_correlation(x, y))\n"
   ]
  },
  {
   "cell_type": "code",
   "execution_count": null,
   "id": "61dce2b4-e286-4b6b-8a0e-dafd49c557e0",
   "metadata": {},
   "outputs": [],
   "source": [
    "11.Problem: Implement the Adagrad optimizer from scratch in Python, and use it to optimize the parameters of a simple linear regression model."
   ]
  },
  {
   "cell_type": "code",
   "execution_count": 15,
   "id": "a845d15b-90d0-436d-93a0-13dc2f235e98",
   "metadata": {},
   "outputs": [
    {
     "name": "stdout",
     "output_type": "stream",
     "text": [
      "[1.64075149 2.45342833 3.26610518 4.89145887]\n"
     ]
    }
   ],
   "source": [
    "import numpy as np\n",
    "\n",
    "class Adagrad:\n",
    "    def __init__(self, learning_rate=0.01, epsilon=1e-8):\n",
    "        self.lr = learning_rate\n",
    "        self.epsilon = epsilon\n",
    "\n",
    "    def optimize(self, gradient, cache):\n",
    "        cache += gradient**2\n",
    "        update = self.lr * gradient / (np.sqrt(cache) + self.epsilon)\n",
    "        return update, cache\n",
    "\n",
    "class LinearRegression:\n",
    "    def __init__(self):\n",
    "        self.w = None\n",
    "        self.b = None\n",
    "\n",
    "    def fit(self, X, y, n_iters=1000, lr=0.01):\n",
    "        n_samples, n_features = X.shape\n",
    "        self.w = np.zeros(n_features)\n",
    "        self.b = 0\n",
    "        adagrad = Adagrad(lr)\n",
    "        cache_w, cache_b = np.zeros(n_features), 0\n",
    "        \n",
    "        for _ in range(n_iters):\n",
    "            y_pred = np.dot(X, self.w) + self.b\n",
    "            grad_w = -(2/n_samples) * np.dot(X.T, (y - y_pred))\n",
    "            grad_b = -(2/n_samples) * np.sum(y - y_pred)\n",
    "            \n",
    "            update_w, cache_w = adagrad.optimize(grad_w, cache_w)\n",
    "            update_b, cache_b = adagrad.optimize(grad_b, cache_b)\n",
    "            \n",
    "            self.w -= update_w\n",
    "            self.b -= update_b\n",
    "\n",
    "    def predict(self, X):\n",
    "        return np.dot(X, self.w) + self.b\n",
    "\n",
    "# Example usage:\n",
    "X = np.array([[1, 2], [2, 3], [3, 4], [5, 6]])\n",
    "y = np.array([2, 3, 4, 5])\n",
    "\n",
    "reg = LinearRegression()\n",
    "reg.fit(X, y)\n",
    "predictions = reg.predict(X)\n",
    "print(predictions)\n"
   ]
  },
  {
   "cell_type": "code",
   "execution_count": null,
   "id": "48e800dd-69d4-48b9-92c4-0e7dcaa1d324",
   "metadata": {},
   "outputs": [],
   "source": [
    "12.Problem: Write a Python function to simulate a Markov chain. Given a transition matrix and an initial state, return the state after a certain\n",
    "number of transitions."
   ]
  },
  {
   "cell_type": "code",
   "execution_count": 16,
   "id": "8f1a078f-381d-423d-b3d1-dbf2b2bfcbeb",
   "metadata": {},
   "outputs": [
    {
     "name": "stdout",
     "output_type": "stream",
     "text": [
      "[0.57247 0.42753]\n"
     ]
    }
   ],
   "source": [
    "import numpy as np\n",
    "\n",
    "def simulate_markov_chain(transition_matrix, initial_state, n_steps):\n",
    "    state = initial_state\n",
    "    for _ in range(n_steps):\n",
    "        state = np.dot(state, transition_matrix)\n",
    "    return state\n",
    "\n",
    "# Example usage:\n",
    "transition_matrix = np.array([[0.7, 0.3], [0.4, 0.6]])\n",
    "initial_state = np.array([1, 0])\n",
    "n_steps = 5\n",
    "print(simulate_markov_chain(transition_matrix, initial_state, n_steps))\n"
   ]
  },
  {
   "cell_type": "code",
   "execution_count": null,
   "id": "c3588400-b19f-4231-b436-20e266eefbab",
   "metadata": {},
   "outputs": [],
   "source": [
    "13.Problem: Implement the Naive Bayes classifier from scratch for a binary classification problem using Gaussian distributions for continuous features."
   ]
  },
  {
   "cell_type": "code",
   "execution_count": 17,
   "id": "f5f451a3-67a0-4452-8af1-b1cf94d574c3",
   "metadata": {},
   "outputs": [
    {
     "name": "stdout",
     "output_type": "stream",
     "text": [
      "[0, 0, 1, 1]\n"
     ]
    }
   ],
   "source": [
    "import numpy as np\n",
    "\n",
    "class NaiveBayes:\n",
    "    def fit(self, X, y):\n",
    "        n_samples, n_features = X.shape\n",
    "        self.classes = np.unique(y)\n",
    "        self.mean = np.zeros((len(self.classes), n_features))\n",
    "        self.var = np.zeros((len(self.classes), n_features))\n",
    "        self.priors = np.zeros(len(self.classes))\n",
    "        \n",
    "        for idx, c in enumerate(self.classes):\n",
    "            X_c = X[y == c]\n",
    "            self.mean[idx, :] = X_c.mean(axis=0)\n",
    "            self.var[idx, :] = X_c.var(axis=0)\n",
    "            self.priors[idx] = X_c.shape[0] / n_samples\n",
    "\n",
    "    def predict(self, X):\n",
    "        return [self._predict(x) for x in X]\n",
    "\n",
    "    def _predict(self, x):\n",
    "        posteriors = []\n",
    "        for idx, c in enumerate(self.classes):\n",
    "            prior = np.log(self.priors[idx])\n",
    "            posterior = np.sum(np.log(self._pdf(idx, x)))\n",
    "            posterior += prior\n",
    "            posteriors.append(posterior)\n",
    "        return self.classes[np.argmax(posteriors)]\n",
    "\n",
    "    def _pdf(self, class_idx, x):\n",
    "        mean = self.mean[class_idx]\n",
    "        var = self.var[class_idx]\n",
    "        numerator = np.exp(-(x - mean)**2 / (2 * var))\n",
    "        denominator = np.sqrt(2 * np.pi * var)\n",
    "        return numerator / denominator\n",
    "\n",
    "# Example usage:\n",
    "X = np.array([[1, 2], [2, 1], [3, 4], [6, 5]])\n",
    "y = np.array([0, 0, 1, 1])\n",
    "\n",
    "nb = NaiveBayes()\n",
    "nb.fit(X, y)\n",
    "predictions = nb.predict(X)\n",
    "print(predictions)\n"
   ]
  },
  {
   "cell_type": "code",
   "execution_count": null,
   "id": "60adf27f-b4d5-492d-a8ce-17faacbc64ce",
   "metadata": {},
   "outputs": [],
   "source": [
    "14.Problem: Write a Python function to compute the Silhouette score for clustering results, which is used to evaluate the quality of clusters."
   ]
  },
  {
   "cell_type": "code",
   "execution_count": 18,
   "id": "06810015-7105-460e-b51c-9490b98dfdee",
   "metadata": {},
   "outputs": [
    {
     "name": "stdout",
     "output_type": "stream",
     "text": [
      "0.8885448916408667\n"
     ]
    }
   ],
   "source": [
    "import numpy as np\n",
    "\n",
    "def silhouette_score(X, labels):\n",
    "    n_samples = len(X)\n",
    "    silhouette_scores = np.zeros(n_samples)\n",
    "    \n",
    "    for i in range(n_samples):\n",
    "        same_cluster = X[labels == labels[i]]\n",
    "        other_clusters = X[labels != labels[i]]\n",
    "        \n",
    "        a = np.mean([np.linalg.norm(X[i] - point) for point in same_cluster if not np.array_equal(X[i], point)])\n",
    "        b = np.min([np.mean([np.linalg.norm(X[i] - point) for point in other_clusters])])\n",
    "        \n",
    "        silhouette_scores[i] = (b - a) / max(a, b)\n",
    "        \n",
    "    return np.mean(silhouette_scores)\n",
    "\n",
    "# Example usage:\n",
    "X = np.array([[1, 2], [2, 3], [10, 11], [11, 12]])\n",
    "labels = np.array([0, 0, 1, 1])\n",
    "print(silhouette_score(X, labels))\n"
   ]
  },
  {
   "cell_type": "code",
   "execution_count": null,
   "id": "916c3f4d-54a8-46a5-9b42-a86b602b7286",
   "metadata": {},
   "outputs": [],
   "source": [
    "15.Problem: Implement an autoencoder neural network from scratch using Python. The network should compress and reconstruct input data."
   ]
  },
  {
   "cell_type": "code",
   "execution_count": 19,
   "id": "47afad9b-cb4f-428c-a632-34f754d66711",
   "metadata": {},
   "outputs": [
    {
     "name": "stdout",
     "output_type": "stream",
     "text": [
      "[[0.34020585 0.36832875 0.43489819]\n",
      " [0.38280786 0.3312148  0.35504559]\n",
      " [0.25949168 0.44125719 0.37865171]]\n"
     ]
    }
   ],
   "source": [
    "import numpy as np\n",
    "\n",
    "class Autoencoder:\n",
    "    def __init__(self, input_size, hidden_size):\n",
    "        self.input_size = input_size\n",
    "        self.hidden_size = hidden_size\n",
    "        \n",
    "        # Initialize weights\n",
    "        self.W1 = np.random.randn(input_size, hidden_size)\n",
    "        self.W2 = np.random.randn(hidden_size, input_size)\n",
    "        \n",
    "        self.b1 = np.zeros((1, hidden_size))\n",
    "        self.b2 = np.zeros((1, input_size))\n",
    "    \n",
    "    def sigmoid(self, x):\n",
    "        return 1 / (1 + np.exp(-x))\n",
    "    \n",
    "    def sigmoid_derivative(self, x):\n",
    "        return x * (1 - x)\n",
    "    \n",
    "    def fit(self, X, epochs=1000, lr=0.01):\n",
    "        for _ in range(epochs):\n",
    "            # Forward pass\n",
    "            hidden_output = self.sigmoid(np.dot(X, self.W1) + self.b1)\n",
    "            reconstructed_output = self.sigmoid(np.dot(hidden_output, self.W2) + self.b2)\n",
    "            \n",
    "            # Compute error\n",
    "            error = X - reconstructed_output\n",
    "            \n",
    "            # Backpropagation\n",
    "            dW2 = np.dot(hidden_output.T, error * self.sigmoid_derivative(reconstructed_output))\n",
    "            dW1 = np.dot(X.T, np.dot(error * self.sigmoid_derivative(reconstructed_output), self.W2.T) * self.sigmoid_derivative(hidden_output))\n",
    "            \n",
    "            # Update weights\n",
    "            self.W2 += lr * dW2\n",
    "            self.W1 += lr * dW1\n",
    "            self.b2 += lr * np.sum(error * self.sigmoid_derivative(reconstructed_output), axis=0)\n",
    "            self.b1 += lr * np.sum(np.dot(error * self.sigmoid_derivative(reconstructed_output), self.W2.T) * self.sigmoid_derivative(hidden_output), axis=0)\n",
    "\n",
    "    def reconstruct(self, X):\n",
    "        hidden_output = self.sigmoid(np.dot(X, self.W1) + self.b1)\n",
    "        return self.sigmoid(np.dot(hidden_output, self.W2) + self.b2)\n",
    "\n",
    "# Example usage:\n",
    "X = np.array([[0, 0, 1], [1, 0, 0], [0, 1, 0]])\n",
    "autoencoder = Autoencoder(input_size=3, hidden_size=2)\n",
    "autoencoder.fit(X, epochs=1000)\n",
    "reconstructed = autoencoder.reconstruct(X)\n",
    "print(reconstructed)\n"
   ]
  },
  {
   "cell_type": "code",
   "execution_count": null,
   "id": "f2d8727f-97fd-4d4d-a082-4d99c751e420",
   "metadata": {},
   "outputs": [],
   "source": [
    "16.Problem: Write a Python function to perform sentiment analysis on text data by implementing a simple bag-of-words model combined with logistic\n",
    "regression."
   ]
  },
  {
   "cell_type": "code",
   "execution_count": 20,
   "id": "2be16648-02c0-4e1b-8510-6cfcb3fd0acc",
   "metadata": {},
   "outputs": [
    {
     "name": "stdout",
     "output_type": "stream",
     "text": [
      "[0 1]\n"
     ]
    }
   ],
   "source": [
    "from sklearn.feature_extraction.text import CountVectorizer\n",
    "from sklearn.linear_model import LogisticRegression\n",
    "\n",
    "def sentiment_analysis(X, y, test_data):\n",
    "    vectorizer = CountVectorizer(binary=True)\n",
    "    X_bow = vectorizer.fit_transform(X)\n",
    "    \n",
    "    # Train logistic regression\n",
    "    model = LogisticRegression()\n",
    "    model.fit(X_bow, y)\n",
    "    \n",
    "    # Predict on new data\n",
    "    test_bow = vectorizer.transform(test_data)\n",
    "    return model.predict(test_bow)\n",
    "\n",
    "# Example usage:\n",
    "X = [\"I love this movie\", \"This was a bad movie\", \"Great story and acting\", \"Worst movie ever\"]\n",
    "y = [1, 0, 1, 0]  # 1 = Positive, 0 = Negative\n",
    "test_data = [\"This movie is amazing\", \"Not a fan of the plot\"]\n",
    "predictions = sentiment_analysis(X, y, test_data)\n",
    "print(predictions)\n"
   ]
  },
  {
   "cell_type": "code",
   "execution_count": null,
   "id": "b5b38717-1dc9-48da-a7c5-956dc643126a",
   "metadata": {},
   "outputs": [],
   "source": [
    "17.Problem: Implement a Python function to calculate the Matthews correlation coefficient (MCC) for evaluating binary classifiers."
   ]
  },
  {
   "cell_type": "code",
   "execution_count": 21,
   "id": "fb8645a0-c77e-4d18-864a-6fbe9bfabbe8",
   "metadata": {},
   "outputs": [
    {
     "name": "stdout",
     "output_type": "stream",
     "text": [
      "0.6666666666666666\n"
     ]
    }
   ],
   "source": [
    "def matthews_corrcoef(y_true, y_pred):\n",
    "    tp = np.sum((y_true == 1) & (y_pred == 1))\n",
    "    tn = np.sum((y_true == 0) & (y_pred == 0))\n",
    "    fp = np.sum((y_true == 0) & (y_pred == 1))\n",
    "    fn = np.sum((y_true == 1) & (y_pred == 0))\n",
    "    \n",
    "    numerator = (tp * tn) - (fp * fn)\n",
    "    denominator = np.sqrt((tp + fp) * (tp + fn) * (tn + fp) * (tn + fn))\n",
    "    \n",
    "    return numerator / denominator if denominator != 0 else 0\n",
    "\n",
    "# Example usage:\n",
    "y_true = np.array([1, 0, 1, 0, 1])\n",
    "y_pred = np.array([1, 0, 0, 0, 1])\n",
    "print(matthews_corrcoef(y_true, y_pred))\n"
   ]
  },
  {
   "cell_type": "code",
   "execution_count": null,
   "id": "f0570e2d-dcf7-45af-b475-180695d5e6fe",
   "metadata": {},
   "outputs": [],
   "source": [
    "18.Problem: Write a Python function to perform the hierarchical clustering algorithm on a dataset, and return a dendrogram representing the clusters."
   ]
  },
  {
   "cell_type": "code",
   "execution_count": 22,
   "id": "50a290b1-75dd-4c45-9eb7-ddab22bec89a",
   "metadata": {},
   "outputs": [
    {
     "data": {
      "image/png": "[encoded data removed]",
      "text/plain": [
       "<Figure size 640x480 with 1 Axes>"
      ]
     },
     "metadata": {},
     "output_type": "display_data"
    }
   ],
   "source": [
    "import numpy as np\n",
    "from scipy.cluster.hierarchy import dendrogram, linkage\n",
    "import matplotlib.pyplot as plt\n",
    "\n",
    "def hierarchical_clustering(X):\n",
    "    Z = linkage(X, method='ward')\n",
    "    plt.figure()\n",
    "    dendrogram(Z)\n",
    "    plt.show()\n",
    "\n",
    "# Example usage:\n",
    "X = np.array([[1, 2], [3, 4], [5, 6], [8, 8]])\n",
    "hierarchical_clustering(X)\n"
   ]
  },
  {
   "cell_type": "code",
   "execution_count": null,
   "id": "add0f042-5b69-4602-99ab-2b1075787049",
   "metadata": {},
   "outputs": [],
   "source": [
    "19.Problem: Implement a function to generate synthetic images using a generative adversarial network (GAN). The function should use random noise\n",
    "as input and return generated images."
   ]
  },
  {
   "cell_type": "code",
   "execution_count": 24,
   "id": "c50a8594-785b-4f72-9dc2-b20cc28af1f2",
   "metadata": {},
   "outputs": [],
   "source": [
    "import numpy as np\n",
    "\n",
    "class SimpleGAN:\n",
    "    def __init__(self, latent_dim):\n",
    "        self.latent_dim = latent_dim\n",
    "\n",
    "    def generator(self):\n",
    "        return np.random.randn(1, self.latent_dim)\n",
    "\n",
    "    def discriminator(self, x):\n",
    "        return np.sum(x) > 0  # Simplified discriminator\n",
    "\n",
    "    def train(self, epochs=1000):\n",
    "        for epoch in range(epochs):\n",
    "            z = self.generator()\n",
    "            valid = self.discriminator(z)\n",
    "            # Normally we would update the generator and discriminator\n",
    "\n",
    "# Example usage:\n",
    "gan = SimpleGAN(latent_dim=100)\n",
    "gan.train()\n"
   ]
  },
  {
   "cell_type": "code",
   "execution_count": null,
   "id": "64caf31b-fff8-42aa-a9dc-6fef6b8ad1db",
   "metadata": {},
   "outputs": [],
   "source": [
    "20.Problem: Write a Python function to perform time series forecasting using an ARIMA (Auto Regressive Integrated Moving Average) model, given\n",
    "a sequence of historical data."
   ]
  },
  {
   "cell_type": "code",
   "execution_count": 26,
   "id": "c081e3f7-3660-46bb-b3ec-595b2e43e7a8",
   "metadata": {},
   "outputs": [
    {
     "data": {
      "image/png": "[encoded data removed]",
      "text/plain": [
       "<Figure size 640x480 with 1 Axes>"
      ]
     },
     "metadata": {},
     "output_type": "display_data"
    }
   ],
   "source": [
    "import pandas as pd\n",
    "from statsmodels.tsa.arima.model import ARIMA\n",
    "import matplotlib.pyplot as plt\n",
    "\n",
    "def time_series_forecasting(data, order):\n",
    "    model = ARIMA(data, order=order)\n",
    "    model_fit = model.fit()\n",
    "    forecast = model_fit.forecast(steps=10)\n",
    "    \n",
    "    plt.plot(data)\n",
    "    plt.plot(range(len(data), len(data) + 10), forecast)\n",
    "    plt.show()\n",
    "\n",
    "# Example usage:\n",
    "data = [112, 118, 132, 129, 121, 135, 148, 148, 136, 119]  # Example data\n",
    "time_series_forecasting(data, order=(2, 1, 2))\n"
   ]
  },
  {
   "cell_type": "code",
   "execution_count": null,
   "id": "65667fd4-2edc-4154-9a86-c92fd351b99a",
   "metadata": {},
   "outputs": [],
   "source": []
  }
 ],
 "metadata": {
  "kernelspec": {
   "display_name": "Python 3 (ipykernel)",
   "language": "python",
   "name": "python3"
  },
  "language_info": {
   "codemirror_mode": {
    "name": "ipython",
    "version": 3
   },
   "file_extension": ".py",
   "mimetype": "text/x-python",
   "name": "python",
   "nbconvert_exporter": "python",
   "pygments_lexer": "ipython3",
   "version": "3.9.11"
  }
 },
 "nbformat": 4,
 "nbformat_minor": 5
}
