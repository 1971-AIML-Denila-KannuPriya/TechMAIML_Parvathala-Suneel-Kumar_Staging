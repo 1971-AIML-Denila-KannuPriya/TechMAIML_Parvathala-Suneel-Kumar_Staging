{
 "cells": [
  {
   "cell_type": "code",
   "execution_count": 2,
   "id": "f1920636-3fa4-4486-8e1a-4699183f1fcb",
   "metadata": {},
   "outputs": [],
   "source": [
    "import pandas as pd"
   ]
  },
  {
   "cell_type": "code",
   "execution_count": 3,
   "id": "27f6ef11-e8ed-4859-bdad-26bea1da0db3",
   "metadata": {},
   "outputs": [
    {
     "data": {
      "text/html": [
       "<div>\n",
       "<style scoped>\n",
       "    .dataframe tbody tr th:only-of-type {\n",
       "        vertical-align: middle;\n",
       "    }\n",
       "\n",
       "    .dataframe tbody tr th {\n",
       "        vertical-align: top;\n",
       "    }\n",
       "\n",
       "    .dataframe thead th {\n",
       "        text-align: right;\n",
       "    }\n",
       "</style>\n",
       "<table border=\"1\" class=\"dataframe\">\n",
       "  <thead>\n",
       "    <tr style=\"text-align: right;\">\n",
       "      <th></th>\n",
       "      <th>Review</th>\n",
       "      <th>Rating</th>\n",
       "    </tr>\n",
       "  </thead>\n",
       "  <tbody>\n",
       "    <tr>\n",
       "      <th>0</th>\n",
       "      <td>nice hotel expensive parking got good deal sta...</td>\n",
       "      <td>4</td>\n",
       "    </tr>\n",
       "    <tr>\n",
       "      <th>1</th>\n",
       "      <td>ok nothing special charge diamond member hilto...</td>\n",
       "      <td>2</td>\n",
       "    </tr>\n",
       "    <tr>\n",
       "      <th>2</th>\n",
       "      <td>nice rooms not 4* experience hotel monaco seat...</td>\n",
       "      <td>3</td>\n",
       "    </tr>\n",
       "    <tr>\n",
       "      <th>3</th>\n",
       "      <td>unique, great stay, wonderful time hotel monac...</td>\n",
       "      <td>5</td>\n",
       "    </tr>\n",
       "    <tr>\n",
       "      <th>4</th>\n",
       "      <td>great stay great stay, went seahawk game aweso...</td>\n",
       "      <td>5</td>\n",
       "    </tr>\n",
       "    <tr>\n",
       "      <th>5</th>\n",
       "      <td>love monaco staff husband stayed hotel crazy w...</td>\n",
       "      <td>5</td>\n",
       "    </tr>\n",
       "    <tr>\n",
       "      <th>6</th>\n",
       "      <td>cozy stay rainy city, husband spent 7 nights m...</td>\n",
       "      <td>5</td>\n",
       "    </tr>\n",
       "    <tr>\n",
       "      <th>7</th>\n",
       "      <td>excellent staff, housekeeping quality hotel ch...</td>\n",
       "      <td>4</td>\n",
       "    </tr>\n",
       "    <tr>\n",
       "      <th>8</th>\n",
       "      <td>hotel stayed hotel monaco cruise, rooms genero...</td>\n",
       "      <td>5</td>\n",
       "    </tr>\n",
       "    <tr>\n",
       "      <th>9</th>\n",
       "      <td>excellent stayed hotel monaco past w/e delight...</td>\n",
       "      <td>5</td>\n",
       "    </tr>\n",
       "  </tbody>\n",
       "</table>\n",
       "</div>"
      ],
      "text/plain": [
       "                                              Review  Rating\n",
       "0  nice hotel expensive parking got good deal sta...       4\n",
       "1  ok nothing special charge diamond member hilto...       2\n",
       "2  nice rooms not 4* experience hotel monaco seat...       3\n",
       "3  unique, great stay, wonderful time hotel monac...       5\n",
       "4  great stay great stay, went seahawk game aweso...       5\n",
       "5  love monaco staff husband stayed hotel crazy w...       5\n",
       "6  cozy stay rainy city, husband spent 7 nights m...       5\n",
       "7  excellent staff, housekeeping quality hotel ch...       4\n",
       "8  hotel stayed hotel monaco cruise, rooms genero...       5\n",
       "9  excellent stayed hotel monaco past w/e delight...       5"
      ]
     },
     "execution_count": 3,
     "metadata": {},
     "output_type": "execute_result"
    }
   ],
   "source": [
    "data=pd.read_csv(r\"D:\\TechMAIML_Parvathala-Suneel-Kumar_Staging\\tripadvisor_hotel_reviews.csv\")\n",
    "data=data.head(10)\n",
    "data"
   ]
  },
  {
   "cell_type": "code",
   "execution_count": 4,
   "id": "3c09d63d-4612-4cbd-8555-da2a63e905ec",
   "metadata": {},
   "outputs": [],
   "source": [
    "from azure.ai.textanalytics import TextAnalyticsClient\n",
    "from azure.core.credentials import AzureKeyCredential"
   ]
  },
  {
   "cell_type": "code",
   "execution_count": 5,
   "id": "d4e84978-bd59-49f5-8fcf-e68d677ba82b",
   "metadata": {},
   "outputs": [],
   "source": [
    "key=\"b3ae9e86477d433b83a8ba9f1b1b381b\"\n",
    "endpoint=\"https://textanaly1.cognitiveservices.azure.com/\"\n"
   ]
  },
  {
   "cell_type": "code",
   "execution_count": 6,
   "id": "2a6d9f37-1e85-43ad-a377-69a904dc1bd2",
   "metadata": {},
   "outputs": [],
   "source": [
    "client=TextAnalyticsClient(\n",
    "    endpoint=endpoint,\n",
    "    credential=AzureKeyCredential(key)\n",
    ")"
   ]
  },
  {
   "cell_type": "code",
   "execution_count": 7,
   "id": "5070d7f2-0a55-4d4d-abaf-457c34ce1ff2",
   "metadata": {},
   "outputs": [],
   "source": [
    "def Analyse_Summary(summary):\n",
    "    summary_sentiment=client.analyze_sentiment(summary)\n",
    "    sent_res=[]\n",
    "    for i in summary_sentiment:\n",
    "        sent_res.append(i.sentiment)\n",
    "    return sent_res\n"
   ]
  },
  {
   "cell_type": "code",
   "execution_count": null,
   "id": "98225bd1-5477-4783-95f9-ed6c32deb2da",
   "metadata": {},
   "outputs": [],
   "source": [
    "data['Sentiment'] = Analyse_Summary(data['Review'])"
   ]
  },
  {
   "cell_type": "code",
   "execution_count": null,
   "id": "b6f65d3f-14be-4144-9319-b0a920d14d20",
   "metadata": {},
   "outputs": [],
   "source": [
    "def authenticate_client():\n",
    "    return TextAnalyticsClient(endpoint=endpoint, credential=AzureKeyCredential(key))\n",
    "\n",
    "client = authenticate_client()\n"
   ]
  },
  {
   "cell_type": "code",
   "execution_count": null,
   "id": "79d88915-8100-4548-8e74-d850ce391a50",
   "metadata": {},
   "outputs": [],
   "source": [
    "def entity_recognition(texts):\n",
    "    result = client.recognize_entities(documents=texts)\n",
    "    entities = []\n",
    "    for doc in result:\n",
    "        entities.append([(entity.text, entity.category) for entity in doc.entities])\n",
    "    return entities"
   ]
  },
  {
   "cell_type": "code",
   "execution_count": null,
   "id": "0bce82a9-bae2-4735-8b7c-a575b92d202f",
   "metadata": {},
   "outputs": [],
   "source": [
    "def key_phrase_extraction(texts):\n",
    "    result = client.extract_key_phrases(documents=texts)\n",
    "    key_phrases = []\n",
    "    for doc in result:\n",
    "        key_phrases.append(doc.key_phrases)\n",
    "    return key_phrases\n"
   ]
  },
  {
   "cell_type": "code",
   "execution_count": null,
   "id": "08f76126-0bb7-4627-9d86-1c9646264aff",
   "metadata": {},
   "outputs": [],
   "source": [
    "data['Entities'] = entity_recognition(data['Review'])\n",
    "data['Key_Phrases'] = key_phrase_extraction(data['Review'])"
   ]
  },
  {
   "cell_type": "code",
   "execution_count": null,
   "id": "b50e0048-e559-4a79-85f5-67033a521b48",
   "metadata": {},
   "outputs": [],
   "source": [
    "import matplotlib.pyplot as plt\n",
    "import seaborn as sns\n"
   ]
  },
  {
   "cell_type": "code",
   "execution_count": null,
   "id": "05a737b1-671e-4a31-a21a-9ed11dd471ad",
   "metadata": {},
   "outputs": [],
   "source": []
  }
 ],
 "metadata": {
  "kernelspec": {
   "display_name": "Python 3 (ipykernel)",
   "language": "python",
   "name": "python3"
  },
  "language_info": {
   "codemirror_mode": {
    "name": "ipython",
    "version": 3
   },
   "file_extension": ".py",
   "mimetype": "text/x-python",
   "name": "python",
   "nbconvert_exporter": "python",
   "pygments_lexer": "ipython3",
   "version": "3.9.11"
  }
 },
 "nbformat": 4,
 "nbformat_minor": 5
}
